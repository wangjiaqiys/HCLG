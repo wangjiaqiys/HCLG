{
 "cells": [
  {
   "cell_type": "code",
   "execution_count": 1,
   "metadata": {},
   "outputs": [],
   "source": [
    "from annoy import AnnoyIndex"
   ]
  },
  {
   "cell_type": "markdown",
   "metadata": {},
   "source": [
    "## 保存成 index"
   ]
  },
  {
   "cell_type": "code",
   "execution_count": 2,
   "metadata": {},
   "outputs": [
    {
     "name": "stderr",
     "output_type": "stream",
     "text": [
      "/usr/local/lib/python3.5/dist-packages/ipykernel_launcher.py:1: FutureWarning: The default argument for metric will be removed in future version of Annoy. Please pass metric='angular' explicitly.\n",
      "  \"\"\"Entry point for launching an IPython kernel.\n"
     ]
    }
   ],
   "source": [
    "wv_index = AnnoyIndex(256)"
   ]
  },
  {
   "cell_type": "code",
   "execution_count": 3,
   "metadata": {},
   "outputs": [],
   "source": [
    "from gensim.models import KeyedVectors\n",
    "wv_model = KeyedVectors.load_word2vec_format('model/w2v.bin', binary=True)"
   ]
  },
  {
   "cell_type": "code",
   "execution_count": 4,
   "metadata": {},
   "outputs": [],
   "source": [
    "i = 0\n",
    "for key in wv_model.vocab.keys():\n",
    "    v = wv_model[key]\n",
    "    wv_index.add_item(i, v)\n",
    "    i += 1"
   ]
  },
  {
   "cell_type": "code",
   "execution_count": 5,
   "metadata": {},
   "outputs": [
    {
     "data": {
      "text/plain": [
       "True"
      ]
     },
     "execution_count": 5,
     "metadata": {},
     "output_type": "execute_result"
    }
   ],
   "source": [
    "wv_index.build(10)"
   ]
  },
  {
   "cell_type": "code",
   "execution_count": 6,
   "metadata": {},
   "outputs": [
    {
     "data": {
      "text/plain": [
       "True"
      ]
     },
     "execution_count": 6,
     "metadata": {},
     "output_type": "execute_result"
    }
   ],
   "source": [
    "wv_index.save('wv_index_build10.index')"
   ]
  },
  {
   "cell_type": "code",
   "execution_count": 7,
   "metadata": {},
   "outputs": [],
   "source": [
    "reverse_word_index = {}\n",
    "word_index = {}\n",
    "with open('/root/share/HCLG/ZN_qiye/week1/HCLG/data/reverse_vocab.txt', 'r', encoding='utf-8') as f:\n",
    "    for line in f.readlines():\n",
    "        reverse_word_index[int(line.split()[0])] = line.split()[1]\n",
    "with open('/root/share/HCLG/ZN_qiye/week1/HCLG/data/vocab.txt', 'r', encoding='utf-8') as f:\n",
    "    for line in f.readlines():\n",
    "        word_index[line.split()[0]] = int(line.split()[1])"
   ]
  },
  {
   "cell_type": "code",
   "execution_count": 24,
   "metadata": {},
   "outputs": [
    {
     "name": "stdout",
     "output_type": "stream",
     "text": [
      "车\n",
      "蠕行\n",
      "轻打\n",
      "儿童\n",
      "勃艮第\n",
      "30kpa\n",
      "凤鸣\n",
      "图二\n",
      "可折叠\n",
      "全名\n",
      "查处\n"
     ]
    }
   ],
   "source": [
    "for item in wv_index.get_nns_by_item(word_index[u'车'], 11):\n",
    "    print(reverse_word_index[item])"
   ]
  },
  {
   "cell_type": "markdown",
   "metadata": {},
   "source": [
    "## 加载index"
   ]
  },
  {
   "cell_type": "code",
   "execution_count": 2,
   "metadata": {},
   "outputs": [],
   "source": [
    "from annoy import AnnoyIndex"
   ]
  },
  {
   "cell_type": "code",
   "execution_count": 5,
   "metadata": {},
   "outputs": [
    {
     "name": "stderr",
     "output_type": "stream",
     "text": [
      "/usr/local/lib/python3.5/dist-packages/ipykernel_launcher.py:1: FutureWarning: The default argument for metric will be removed in future version of Annoy. Please pass metric='angular' explicitly.\n",
      "  \"\"\"Entry point for launching an IPython kernel.\n"
     ]
    },
    {
     "data": {
      "text/plain": [
       "True"
      ]
     },
     "execution_count": 5,
     "metadata": {},
     "output_type": "execute_result"
    }
   ],
   "source": [
    "wv_index = AnnoyIndex(256)\n",
    "wv_index.load('/root/share/HCLG/ZN_qiye/week1/HCLG/work_of_word2vec/model/wv_index_build10.index', prefault=False)\n",
    "# u.load('test.ann') # super fast, will just mmap the file\n",
    "# print(u.get_nns_by_item(0, 1000)) # will find the 1000 nearest neighbors"
   ]
  },
  {
   "cell_type": "code",
   "execution_count": 8,
   "metadata": {},
   "outputs": [
    {
     "name": "stdout",
     "output_type": "stream",
     "text": [
      "车\n",
      "蠕行\n",
      "轻打\n",
      "儿童\n",
      "勃艮第\n",
      "30kpa\n",
      "凤鸣\n",
      "图二\n",
      "可折叠\n",
      "全名\n",
      "查处\n"
     ]
    }
   ],
   "source": [
    "for item in wv_index.get_nns_by_item(word_index[u'车'], 11):\n",
    "    print(reverse_word_index[item])"
   ]
  },
  {
   "cell_type": "code",
   "execution_count": null,
   "metadata": {},
   "outputs": [],
   "source": []
  }
 ],
 "metadata": {
  "kernelspec": {
   "display_name": "Python 3",
   "language": "python",
   "name": "python3"
  },
  "language_info": {
   "codemirror_mode": {
    "name": "ipython",
    "version": 3
   },
   "file_extension": ".py",
   "mimetype": "text/x-python",
   "name": "python",
   "nbconvert_exporter": "python",
   "pygments_lexer": "ipython3",
   "version": "3.5.2"
  }
 },
 "nbformat": 4,
 "nbformat_minor": 4
}
