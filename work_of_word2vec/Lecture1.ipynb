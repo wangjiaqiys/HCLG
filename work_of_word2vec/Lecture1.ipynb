{
 "cells": [
  {
   "cell_type": "markdown",
   "metadata": {},
   "source": [
    "# 1 Project_1 问答摘要与推理\n",
    "\n",
    "## 1.1 问题描述\n",
    "项目一是由百度AI技术生态部门提供，题目为“汽车大师问答摘要与推理”。\n",
    "\n",
    "要求大家使用汽车大师提供的11万条（技师与用户的多轮对话与诊断建议报告数据）建立模型，模型需基于对话文本、用户问题、车型与车系，输出包含摘要与推断的报告文本，综合考验模型的归纳总结与推断能力。该解决方案可以节省大量人工时间，提高用户获取回答和解决方案的效率。\n",
    "\n",
    "## 1.2 数据说明\n",
    "对于每个用户问题\"QID\"，有对应文本形式的文本集合 D = \"Brand\", \"Collection\", \"Problem\", \"Conversation\"，要求阅读理解系统自动对D进行分析，输出相应的报告文本\"Report\"，其中包含摘要与推理。目标是\"Report\"可以正确、完整、简洁、清晰、连贯地对D中的信息作归纳总结与推理。\n",
    "\n",
    "训练：所提供的训练集（82943条记录）建立模型，基于汽车品牌、车系、问题内容与问答对话的文本，输出建议报告文本\n",
    "\n",
    "输出结果：对所提供的测试集（20000条记录）使用训练好的模型，输出建议报告的结果文件，通过最终测评得到评价分数\n",
    "\n",
    "请提交一个CSV文件，包含QID和Prediction两个字段，分隔符为逗号(',')，请注意区分大小写。参考样例如下：\n",
    "\n",
    "|QID|Prediction|\n",
    "|-|-|\n",
    "|Q103432|你的预测|\n",
    "|Q100965|你的预测|\n",
    "\n",
    "训练、测试数据\n"
   ]
  },
  {
   "cell_type": "code",
   "execution_count": 3,
   "metadata": {},
   "outputs": [],
   "source": [
    "import pandas as pd\n",
    "\n",
    "train_path = \"/Users/zn-nlp/Documents/project1_auto_master_qa/datasets/AutoMaster_TrainSet.csv\"\n",
    "test_path = \"/Users/zn-nlp/Documents/project1_auto_master_qa/datasets/AutoMaster_TestSet.csv\""
   ]
  },
  {
   "cell_type": "code",
   "execution_count": 4,
   "metadata": {},
   "outputs": [],
   "source": [
    "df = pd.read_csv(train_path, encoding='utf-8')"
   ]
  },
  {
   "cell_type": "code",
   "execution_count": 5,
   "metadata": {},
   "outputs": [
    {
     "name": "stdout",
     "output_type": "stream",
     "text": [
      "<class 'pandas.core.frame.DataFrame'>\n",
      "RangeIndex: 82943 entries, 0 to 82942\n",
      "Data columns (total 6 columns):\n",
      "QID         82943 non-null object\n",
      "Brand       81642 non-null object\n",
      "Model       81642 non-null object\n",
      "Question    82943 non-null object\n",
      "Dialogue    82941 non-null object\n",
      "Report      82873 non-null object\n",
      "dtypes: object(6)\n",
      "memory usage: 3.8+ MB\n"
     ]
    }
   ],
   "source": [
    "df.info()"
   ]
  },
  {
   "cell_type": "code",
   "execution_count": 7,
   "metadata": {},
   "outputs": [
    {
     "data": {
      "text/html": [
       "<div>\n",
       "<style scoped>\n",
       "    .dataframe tbody tr th:only-of-type {\n",
       "        vertical-align: middle;\n",
       "    }\n",
       "\n",
       "    .dataframe tbody tr th {\n",
       "        vertical-align: top;\n",
       "    }\n",
       "\n",
       "    .dataframe thead th {\n",
       "        text-align: right;\n",
       "    }\n",
       "</style>\n",
       "<table border=\"1\" class=\"dataframe\">\n",
       "  <thead>\n",
       "    <tr style=\"text-align: right;\">\n",
       "      <th></th>\n",
       "      <th>QID</th>\n",
       "      <th>Brand</th>\n",
       "      <th>Model</th>\n",
       "      <th>Question</th>\n",
       "      <th>Dialogue</th>\n",
       "      <th>Report</th>\n",
       "    </tr>\n",
       "  </thead>\n",
       "  <tbody>\n",
       "    <tr>\n",
       "      <th>0</th>\n",
       "      <td>Q1</td>\n",
       "      <td>奔驰</td>\n",
       "      <td>奔驰GL级</td>\n",
       "      <td>方向机重，助力泵，方向机都换了还是一样</td>\n",
       "      <td>技师说：[语音]|车主说：新的都换了|车主说：助力泵，方向机|技师说：[语音]|车主说：换了...</td>\n",
       "      <td>随时联系</td>\n",
       "    </tr>\n",
       "    <tr>\n",
       "      <th>1</th>\n",
       "      <td>Q2</td>\n",
       "      <td>奔驰</td>\n",
       "      <td>奔驰M级</td>\n",
       "      <td>奔驰ML500排气凸轮轴调节错误</td>\n",
       "      <td>技师说：你这个有没有电脑检测故障代码。|车主说：有|技师说：发一下|车主说：发动机之前亮故障...</td>\n",
       "      <td>随时联系</td>\n",
       "    </tr>\n",
       "    <tr>\n",
       "      <th>2</th>\n",
       "      <td>Q3</td>\n",
       "      <td>宝马</td>\n",
       "      <td>宝马X1(进口)</td>\n",
       "      <td>2010款宝马X1，2011年出厂，2.0排量，通用6L45变速箱，原地换挡位PRND车辆闯...</td>\n",
       "      <td>技师说：你好，4缸自然吸气发动机N46是吧，先挂空档再挂其他档有没有闯动呢，变速箱油液位是否...</td>\n",
       "      <td>行驶没有顿挫的感觉，原地换挡有闯动，刹车踩重没有，这是力的限制的作用，应该没有问题</td>\n",
       "    </tr>\n",
       "    <tr>\n",
       "      <th>3</th>\n",
       "      <td>Q4</td>\n",
       "      <td>Jeep</td>\n",
       "      <td>牧马人</td>\n",
       "      <td>3.0V6发动机号在什么位置，有照片最好！</td>\n",
       "      <td>技师说：右侧排气管上方，缸体上靠近变速箱|车主说：[图片]|车主说：是不是这个？|车主说：这...</td>\n",
       "      <td>举起车辆，在左前轮这边的缸体上</td>\n",
       "    </tr>\n",
       "    <tr>\n",
       "      <th>4</th>\n",
       "      <td>Q5</td>\n",
       "      <td>奔驰</td>\n",
       "      <td>奔驰C级</td>\n",
       "      <td>2012款奔驰c180怎么样，维修保养，动力，值得拥有吗</td>\n",
       "      <td>技师说：家庭用车的话，还是可以入手的|技师说：维修保养费用不高|车主说：12年的180市场价...</td>\n",
       "      <td>家庭用车可以入手的，维修保养价格还可以。车况好，价格合理可以入手</td>\n",
       "    </tr>\n",
       "  </tbody>\n",
       "</table>\n",
       "</div>"
      ],
      "text/plain": [
       "  QID Brand     Model                                           Question  \\\n",
       "0  Q1    奔驰     奔驰GL级                                方向机重，助力泵，方向机都换了还是一样   \n",
       "1  Q2    奔驰      奔驰M级                                   奔驰ML500排气凸轮轴调节错误   \n",
       "2  Q3    宝马  宝马X1(进口)  2010款宝马X1，2011年出厂，2.0排量，通用6L45变速箱，原地换挡位PRND车辆闯...   \n",
       "3  Q4  Jeep       牧马人                              3.0V6发动机号在什么位置，有照片最好！   \n",
       "4  Q5    奔驰      奔驰C级                       2012款奔驰c180怎么样，维修保养，动力，值得拥有吗   \n",
       "\n",
       "                                            Dialogue  \\\n",
       "0  技师说：[语音]|车主说：新的都换了|车主说：助力泵，方向机|技师说：[语音]|车主说：换了...   \n",
       "1  技师说：你这个有没有电脑检测故障代码。|车主说：有|技师说：发一下|车主说：发动机之前亮故障...   \n",
       "2  技师说：你好，4缸自然吸气发动机N46是吧，先挂空档再挂其他档有没有闯动呢，变速箱油液位是否...   \n",
       "3  技师说：右侧排气管上方，缸体上靠近变速箱|车主说：[图片]|车主说：是不是这个？|车主说：这...   \n",
       "4  技师说：家庭用车的话，还是可以入手的|技师说：维修保养费用不高|车主说：12年的180市场价...   \n",
       "\n",
       "                                      Report  \n",
       "0                                       随时联系  \n",
       "1                                       随时联系  \n",
       "2  行驶没有顿挫的感觉，原地换挡有闯动，刹车踩重没有，这是力的限制的作用，应该没有问题  \n",
       "3                            举起车辆，在左前轮这边的缸体上  \n",
       "4           家庭用车可以入手的，维修保养价格还可以。车况好，价格合理可以入手  "
      ]
     },
     "execution_count": 7,
     "metadata": {},
     "output_type": "execute_result"
    }
   ],
   "source": [
    "df.head()"
   ]
  },
  {
   "cell_type": "code",
   "execution_count": 8,
   "metadata": {},
   "outputs": [
    {
     "data": {
      "text/plain": [
       "QID                                                        Q1\n",
       "Brand                                                      奔驰\n",
       "Model                                                   奔驰GL级\n",
       "Question                                  方向机重，助力泵，方向机都换了还是一样\n",
       "Dialogue    技师说：[语音]|车主说：新的都换了|车主说：助力泵，方向机|技师说：[语音]|车主说：换了...\n",
       "Report                                                   随时联系\n",
       "Name: 0, dtype: object"
      ]
     },
     "execution_count": 8,
     "metadata": {},
     "output_type": "execute_result"
    }
   ],
   "source": [
    "df.iloc[0]"
   ]
  },
  {
   "cell_type": "markdown",
   "metadata": {},
   "source": [
    "# 2 如何完成项目\n",
    "\n",
    "## 2.1 Tensorflow and PyTorch\n",
    "\n",
    "## 2.2 Github\n",
    "\n",
    "## 2.3 每周提交作业\n",
    "\n",
    "## 2.4 多在群里讨论"
   ]
  },
  {
   "cell_type": "markdown",
   "metadata": {},
   "source": [
    "# 3 分词\n",
    "\n",
    "## 3.1 jieba\n",
    "\n",
    "+ jieba.cut 方法接受三个输入参数: 需要分词的字符串；cut_all 参数用来控制是否采用全模式；HMM 参数用来控制是否使用 HMM 模型\n",
    "+ jieba.cut_for_search 方法接受两个参数：需要分词的字符串；是否使用 HMM 模型。该方法适合用于搜索引擎构建倒排索引的分词，粒度比较细待分词的字符串可以是 unicode 或 UTF-8 字符串、GBK 字符串。注意：不建议直接输入 GBK 字符串，可能无法预料地错误解码成 UTF-8\n",
    "+ jieba.cut 以及 jieba.cut_for_search 返回的结构都是一个可迭代的 generator，可以使用 for 循环来获得分词后得到的每一个词语(unicode)，或者用\n",
    "+ jieba.lcut 以及 jieba.lcut_for_search 直接返回 list\n",
    "+ jieba.Tokenizer(dictionary=DEFAULT_DICT) 新建自定义分词器，可用于同时使用不同词典。jieba.dt 为默认分词器，所有全局分词相关函数都是该分词器的映射。\n"
   ]
  },
  {
   "cell_type": "code",
   "execution_count": 9,
   "metadata": {},
   "outputs": [],
   "source": [
    "import jieba\n",
    "import jieba.posseg as pseg"
   ]
  },
  {
   "cell_type": "code",
   "execution_count": 10,
   "metadata": {},
   "outputs": [
    {
     "name": "stderr",
     "output_type": "stream",
     "text": [
      "Building prefix dict from the default dictionary ...\n",
      "Dumping model to file cache /var/folders/sj/8mpjzv0n0y9ddyrkwd7zj8540000gn/T/jieba.cache\n",
      "Loading model cost 0.810 seconds.\n",
      "Prefix dict has been built succesfully.\n"
     ]
    },
    {
     "name": "stdout",
     "output_type": "stream",
     "text": [
      "Full Mode:我/来到/北京/清华/清华大学/华大/大学\n",
      "Default Mode:我/来到/北京/清华大学\n",
      "我, 来到, 北京, 清华大学\n",
      "Search Engin Mode小明, 硕士, 毕业, 于, 中国, 科学, 学院, 科学院, 中国科学院, 计算, 计算所, ，, 后, 在, 日本, 京都, 大学, 日本京都大学, 深造\n"
     ]
    }
   ],
   "source": [
    "seg_list = jieba.cut('我来到北京清华大学',cut_all=True)\n",
    "print('Full Mode:' + '/'.join(seg_list)) #全模式\n",
    "\n",
    "seg_list = jieba.cut('我来到北京清华大学',cut_all=False)\n",
    "print('Default Mode:' + '/'.join(seg_list)) # 精确模式\n",
    "\n",
    "seg_list = jieba.cut('我来到北京清华大学')\n",
    "print(', '.join(seg_list)) # 默认为精确模式\n",
    "\n",
    "seg_list = jieba.cut_for_search('小明硕士毕业于中国科学院计算所，后在日本京都大学深造') # 搜索引擎模式\n",
    "print('Search Engin Mode'+', '.join(seg_list))"
   ]
  },
  {
   "cell_type": "code",
   "execution_count": 11,
   "metadata": {},
   "outputs": [
    {
     "name": "stdout",
     "output_type": "stream",
     "text": [
      "word: 0\tflag: 我/r\n",
      "word: 1\tflag: 爱/v\n",
      "word: 2\tflag: 北京/ns\n",
      "word: 3\tflag: 天安门/ns\n"
     ]
    }
   ],
   "source": [
    "words = pseg.cut('我爱北京天安门')\n",
    "for w, f in enumerate(words):\n",
    "    print((\"word: %s\\tflag: %s\")%(w,f))"
   ]
  },
  {
   "cell_type": "markdown",
   "metadata": {},
   "source": [
    "# 4 其它\n"
   ]
  },
  {
   "cell_type": "markdown",
   "metadata": {},
   "source": [
    "## softmax"
   ]
  },
  {
   "cell_type": "code",
   "execution_count": 12,
   "metadata": {},
   "outputs": [],
   "source": [
    "import numpy as np\n",
    "\n",
    "def softmax(x):\n",
    "    \"\"\"Compute softmax values for each sets of scores in x.\"\"\"\n",
    "    return np.exp(x) / np.sum(np.exp(x), axis=0)"
   ]
  },
  {
   "cell_type": "code",
   "execution_count": 13,
   "metadata": {},
   "outputs": [
    {
     "data": {
      "text/plain": [
       "array([0.01269521, 0.00467031, 0.03450917, 0.25499017, 0.69313514])"
      ]
     },
     "execution_count": 13,
     "metadata": {},
     "output_type": "execute_result"
    }
   ],
   "source": [
    "softmax([2, 1,3,5, 6])"
   ]
  },
  {
   "cell_type": "markdown",
   "metadata": {},
   "source": [
    "# 5 词向量"
   ]
  },
  {
   "cell_type": "code",
   "execution_count": 14,
   "metadata": {},
   "outputs": [],
   "source": [
    "from gensim.models import KeyedVectors\n",
    "import time"
   ]
  },
  {
   "cell_type": "code",
   "execution_count": 15,
   "metadata": {},
   "outputs": [],
   "source": [
    "wv_model = KeyedVectors.load_word2vec_format('/Users/zn-nlp/Documents/project1_auto_master_qa/datasets/w2v.bin',\n",
    "                                             binary=True)"
   ]
  },
  {
   "cell_type": "code",
   "execution_count": 16,
   "metadata": {},
   "outputs": [],
   "source": [
    "def timeit(f):\n",
    "    def wrapper(*args, **kwargs):\n",
    "        start_time = time.time()\n",
    "        res = f(*args, **kwargs)\n",
    "        end_time = time.time()\n",
    "        print(\"%s函数运行时间为：%.8f\" %(f.__name__, end_time - start_time))\n",
    "        return res\n",
    "    return wrapper"
   ]
  },
  {
   "cell_type": "code",
   "execution_count": 17,
   "metadata": {},
   "outputs": [
    {
     "name": "stderr",
     "output_type": "stream",
     "text": [
      "/Users/zn-nlp/anaconda3/lib/python3.7/site-packages/ipykernel_launcher.py:3: DeprecationWarning: Call to deprecated `wv` (Attribute will be removed in 4.0.0, use self instead).\n",
      "  This is separate from the ipykernel package so we can avoid doing imports until\n"
     ]
    },
    {
     "name": "stdout",
     "output_type": "stream",
     "text": [
      "run函数运行时间为：0.31225300\n"
     ]
    }
   ],
   "source": [
    "@timeit\n",
    "def run():\n",
    "    wv_model.wv.most_similar(\"维修\")\n",
    "run()"
   ]
  },
  {
   "cell_type": "markdown",
   "metadata": {},
   "source": [
    "使用gensim有以下缺点：\n",
    "\n",
    "* gensim加载模型耗时很长\n",
    "\n",
    "* 占用内存很大，会将所有的词向量加载进入内存，占用内存很大（>10g）\n",
    "\n",
    "* most_similar函数耗时较长。gensim使用的算法似乎是暴力求解（待验证），耗时较长，0.17秒。"
   ]
  },
  {
   "cell_type": "markdown",
   "metadata": {},
   "source": [
    "当词向量非常大的时候，如何提升搜索查找速度"
   ]
  },
  {
   "cell_type": "code",
   "execution_count": 18,
   "metadata": {},
   "outputs": [],
   "source": [
    "import json"
   ]
  },
  {
   "cell_type": "code",
   "execution_count": 19,
   "metadata": {},
   "outputs": [],
   "source": [
    "from collections import OrderedDict"
   ]
  },
  {
   "cell_type": "code",
   "execution_count": 20,
   "metadata": {},
   "outputs": [],
   "source": [
    "word_index = OrderedDict()"
   ]
  },
  {
   "cell_type": "code",
   "execution_count": 21,
   "metadata": {},
   "outputs": [],
   "source": [
    "for counter, key in enumerate(wv_model.vocab.keys()):\n",
    "    word_index[key] = counter"
   ]
  },
  {
   "cell_type": "code",
   "execution_count": 22,
   "metadata": {},
   "outputs": [],
   "source": [
    "with open('word_index.json', 'w') as fp:\n",
    "    json.dump(word_index, fp)"
   ]
  },
  {
   "cell_type": "code",
   "execution_count": 23,
   "metadata": {},
   "outputs": [],
   "source": [
    "from annoy import AnnoyIndex"
   ]
  },
  {
   "cell_type": "code",
   "execution_count": 24,
   "metadata": {},
   "outputs": [
    {
     "name": "stderr",
     "output_type": "stream",
     "text": [
      "/Users/zn-nlp/anaconda3/lib/python3.7/site-packages/ipykernel_launcher.py:1: FutureWarning: The default argument for metric will be removed in future version of Annoy. Please pass metric='angular' explicitly.\n",
      "  \"\"\"Entry point for launching an IPython kernel.\n"
     ]
    }
   ],
   "source": [
    "wv_index = AnnoyIndex(256)"
   ]
  },
  {
   "cell_type": "code",
   "execution_count": 25,
   "metadata": {},
   "outputs": [],
   "source": [
    "i = 0\n",
    "\n",
    "for key in wv_model.vocab.keys():\n",
    "    v = wv_model[key]\n",
    "    wv_index.add_item(i, v)\n",
    "    i += 1"
   ]
  },
  {
   "cell_type": "code",
   "execution_count": 26,
   "metadata": {},
   "outputs": [
    {
     "data": {
      "text/plain": [
       "True"
      ]
     },
     "execution_count": 26,
     "metadata": {},
     "output_type": "execute_result"
    }
   ],
   "source": [
    "wv_index.build(10)"
   ]
  },
  {
   "cell_type": "code",
   "execution_count": 27,
   "metadata": {},
   "outputs": [
    {
     "data": {
      "text/plain": [
       "True"
      ]
     },
     "execution_count": 27,
     "metadata": {},
     "output_type": "execute_result"
    }
   ],
   "source": [
    "wv_index.save('wv_index_build10.index')"
   ]
  },
  {
   "cell_type": "code",
   "execution_count": 28,
   "metadata": {},
   "outputs": [],
   "source": [
    "reverse_word_index = dict([(value, key) for (key, value) in word_index.items()])"
   ]
  },
  {
   "cell_type": "code",
   "execution_count": 29,
   "metadata": {},
   "outputs": [
    {
     "name": "stdout",
     "output_type": "stream",
     "text": [
      "车\n",
      "这车\n",
      "之光车\n",
      "车能\n",
      "19761\n",
      "我车\n",
      "门见\n",
      "两伐\n",
      "ko7\n",
      "10899\n",
      "15800\n"
     ]
    }
   ],
   "source": [
    "for item in wv_index.get_nns_by_item(word_index[u'车'], 11):\n",
    "    print(reverse_word_index[item])"
   ]
  },
  {
   "cell_type": "code",
   "execution_count": 30,
   "metadata": {},
   "outputs": [
    {
     "name": "stdout",
     "output_type": "stream",
     "text": [
      "维修\n",
      "当面交易\n",
      "装好点\n",
      "熟练程度\n",
      "祁阳县\n",
      "修锁店\n",
      "专修\n",
      "给付\n",
      "艾特\n",
      "4520\n",
      "调就行\n",
      "run函数运行时间为：0.00134492\n"
     ]
    }
   ],
   "source": [
    "@timeit\n",
    "def run():\n",
    "    for item in wv_index.get_nns_by_item(word_index['维修'], 11):\n",
    "        print(reverse_word_index[item])\n",
    "run()"
   ]
  },
  {
   "cell_type": "code",
   "execution_count": null,
   "metadata": {},
   "outputs": [],
   "source": []
  },
  {
   "cell_type": "code",
   "execution_count": null,
   "metadata": {},
   "outputs": [],
   "source": []
  }
 ],
 "metadata": {
  "kernelspec": {
   "display_name": "Python 3",
   "language": "python",
   "name": "python3"
  },
  "language_info": {
   "codemirror_mode": {
    "name": "ipython",
    "version": 3
   },
   "file_extension": ".py",
   "mimetype": "text/x-python",
   "name": "python",
   "nbconvert_exporter": "python",
   "pygments_lexer": "ipython3",
   "version": "3.7.3"
  }
 },
 "nbformat": 4,
 "nbformat_minor": 2
}
